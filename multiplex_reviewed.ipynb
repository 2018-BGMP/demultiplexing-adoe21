{
 "cells": [
  {
   "cell_type": "markdown",
   "metadata": {},
   "source": [
    "### Number of \"N's\" in indexes\n",
    "\n",
    "zcat 1294_S1_L008_R2_001.fastq.gz | sed -n 2~4p | grep -c \"N\"\n",
    "- 3976613\n",
    "\n",
    "zcat 1294_S1_L008_R3_001.fastq.gz | sed -n 2~4p | grep -c \"N\"\n",
    "- 3328051"
   ]
  },
  {
   "cell_type": "code",
   "execution_count": null,
   "metadata": {},
   "outputs": [],
   "source": [
    "### Reviewer: Garth Kong \n",
    "### Notes: Comments will be marked with '###' for easier reading. "
   ]
  },
  {
   "cell_type": "markdown",
   "metadata": {},
   "source": [
    "### Quality Score Cutoff\n",
    "\n",
    "- Based on my graphs I would use a quality score cutoff of 35. This provides me with most the data just cutting out the few quality scores that were outliers and had low quality scores."
   ]
  },
  {
   "cell_type": "markdown",
   "metadata": {},
   "source": [
    "### Part Two De-Multiplexing Algorithm\n",
    "\n",
    "Define the Problem:\n",
    "- For certain reads we have index hopping, where the barcode at the end of the read doesn't match the barcode at the beginning of the read. We need to determine when index hopping happens, and also if it is not happening, save that read to a different file containing all of the good reads. We will also distinguish forward direction from reverse direction by having two \"good\" files, one for reads in the forward direction and one for reads in the reverse direction.\n",
    "\n",
    "Determine/Describe which output would be informative:\n",
    "- Looking at the sequence lines from the FASTQ files containing the indexes would be informative. If we have a match, that means the index in one of the index files is the reverse compliment of the index in the other file. We then need to transfer the FASTQ information from the sequence files if the read is considered good to a new file. Our final output will be two files with all of the \"good\" reads, one with all the forward direction reads and one with all the backwards direction reads all in proper FASTQ format."
   ]
  },
  {
   "cell_type": "markdown",
   "metadata": {},
   "source": [
    "### Psuedocode\n",
    "\n",
    "- Define a custom function to give the reverse compliment of a sequence, we'll call it reverseseq.\n",
    "- Open all four of the files using with zcat.open(filename, \"rt\") to ensure you are opening the zipped file properly so that it is read by python as text.\n",
    "- You now have four open files in python, the first having sequence, the second and third having indexes, and the fourth having sequence\n",
    "- Look at the first four lines of each file using the readline method, saving each as a variable.\n",
    "- You now have the first header, sequence, comment line, and quality score from each file saved as a variable\n",
    "- If the two sequences you have saved from the index files are the reverse compliment of each other, you have a match!\n",
    "- You can check this by taking one of the index sequences, plugging it into the reverseseq function and seeing if the output of this matches the other index sequence.\n",
    "- If there is a match, write the four lines you have saved from the sequence files to two files, one for forward direction and one for the reverse direction. When writing to a file, use with open(filename, \"a\"). The \"a\" is important because it means it will append to a file rather than rewrite it, and since we will be iterating over this process we want it appending and not overwriting. Based on my graph of average quality scores, I would assume the first file is the forward read and the fourth file is the reverse read because the first file has an overall higher quality score. This means I would write the four lines I have saved from the first file into the forward read file and the lines saved from the fourth file into the reverse read file. Make sure to write these lines so the new file is a properly formatted FASTQ file. This means using the out.write function and making sure to add a new line character between each of the variables you will be writing into the file.\n",
    "- Since we are saving each different indexes reads to a separate file, make sure to change the filename you are writing to for each different index you are dealing with.\n",
    "- If there isn't a match keep track of how many times this occurs to keep track of how often index hopping is occuring.\n",
    "- Repeat this process in chunks of four lines for all the files, all the way through the files. I would do this by using a while loop and a counter. I would start my counter at 0 and add 4 after every iteration. The while loop would then run until the condition ctr <= total lines in file was no longer satisfied to ensure I was going through the whole file."
   ]
  },
  {
   "cell_type": "code",
   "execution_count": 1,
   "metadata": {
    "collapsed": true
   },
   "outputs": [],
   "source": [
    "#define reveseseq function which takes in a string of sequence and outputs a string \n",
    "#that is the reverse compliment of the input function\n",
    "\n",
    "#open file1\n",
    "    #open file2\n",
    "        #open file3\n",
    "            #open file4\n",
    "                #ctr = 0\n",
    "                #hopctr = 0\n",
    "                #goodctrdict = {}\n",
    "                #while ctr <= total lines of file1 (each file has the same number of lines)\n",
    "                    #read line 1 of file1 and save as header1\n",
    "                    #read line 2 of file1 and save as sequence1\n",
    "                    #read line 3 of file1 and save as comment1\n",
    "                    #read line 4 of file1 and save as qscore1\n",
    "                    #read line 1 of file2 and save as header2\n",
    "                    #read line 2 of file2 and save as sequence2\n",
    "                    #read line 3 of file2 and save as comment2\n",
    "                    #read line 4 of file2 and save as qscore2\n",
    "                    #read line 1 of file3 and save as header3\n",
    "                    #read line 2 of file3 and save as sequence3\n",
    "                    #read line 3 of file3 and save as comment3\n",
    "                    #read line 4 of file3 and save as qscore3\n",
    "                    #read line 1 of file4 and save as header4\n",
    "                    #read line 2 of file4 and save as sequence4\n",
    "                    #read line 3 of file4 and save as comment4\n",
    "                    #read line 4 of file4 and save as qscore4\n",
    "                    #if sequence2 == reverseseq(sequence3), there's a match!\n",
    "                        #if sequence2 not in goodctrdict:\n",
    "                            #goodctrdict[sequence2] = 1\n",
    "                        #if sequence2 in goodctrdict:\n",
    "                            #goodctrdict[sequence2] += 1\n",
    "                        #with open(sequence2 + \"forwardout\", \"a\")\n",
    "                            #with open(sequence2 + \"reverseout\", \"a\")\n",
    "                                #write all the variables from file1 to forwardout making sure to separate each by a new line\n",
    "                                #character to ensure that the output file is a properly formatted FASTQ\n",
    "                                #Do the same writing the variables from file4 to reverseout\n",
    "                    #else\n",
    "                        #hopctr += 1\n",
    "                        #with open(\"forwardbad\", \"a\")\n",
    "                            #with open(\"reversebad\", \"a\")\n",
    "                                #write sequence2 to \"forwardbad\" and write sequence3 to \"reversebad\" to keep track\n",
    "                                #of unknown indexes\n",
    "                    #ctr += 4\n",
    "#hopctr/(total lines of file 1 /4) = percentage of indexhopping\n",
    "#print hopctr and percentage of index hopping\n",
    "#print keys and values of goodctrdict to see the number of proper matches per index"
   ]
  },
  {
   "cell_type": "code",
   "execution_count": 1,
   "metadata": {
    "collapsed": true
   },
   "outputs": [],
   "source": [
    "#HIGH LEVEL FUNCTIONS\n",
    "\n",
    "#reverseseq(string)\n",
    "#This function is necessary to check if our indexes match as we want them to\n",
    "'''This function inputs a string of DNA and outputs the reverse compliment of that DNA string'''\n",
    "'''Example: input of ACCCGTT will return AACGGGT'''\n",
    "#return reverse_seq_string"
   ]
  },
  {
   "cell_type": "code",
   "execution_count": null,
   "metadata": {
    "collapsed": true
   },
   "outputs": [],
   "source": [
    "### What about reads that are really bad quality (reads with 1 or more N's)? Is it wise to infer patterns from the data if the reads are terrible?\n",
    "### Everything else looks good"
   ]
  }
 ],
 "metadata": {
  "kernelspec": {
   "display_name": "Python 3",
   "language": "python",
   "name": "python3"
  },
  "language_info": {
   "codemirror_mode": {
    "name": "ipython",
    "version": 3
   },
   "file_extension": ".py",
   "mimetype": "text/x-python",
   "name": "python",
   "nbconvert_exporter": "python",
   "pygments_lexer": "ipython3",
   "version": "3.6.5"
  }
 },
 "nbformat": 4,
 "nbformat_minor": 2
}
